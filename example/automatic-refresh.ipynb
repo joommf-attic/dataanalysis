{
 "cells": [
  {
   "cell_type": "code",
   "execution_count": 1,
   "metadata": {
    "collapsed": false
   },
   "outputs": [
    {
     "data": {
      "image/png": "[encoded data removed]",
      "text/plain": [
       "<matplotlib.figure.Figure at 0x10d945358>"
      ]
     },
     "metadata": {},
     "output_type": "display_data"
    }
   ],
   "source": [
    "%matplotlib inline\n",
    "import time\n",
    "import numpy as np\n",
    "import matplotlib.pyplot as plt\n",
    "from math import pi\n",
    "from ipywidgets import interact, HTML, FloatSlider, Button, Output, Accordion\n",
    "from IPython.display import clear_output, display\n",
    "\n",
    "slider1 = FloatSlider(value=5,description='magnitude', min=0, max=10, step=0.1)\n",
    "slider2 = FloatSlider(value=pi, description='phase', min=0, max=4*np.pi, step=0.1)\n",
    "slider3 = FloatSlider(description='time', min=0, max=100, step=0.1)\n",
    "button = Button(description='update')\n",
    "# widget 'box' for matplotlib plot\n",
    "image = Output(value=5)\n",
    "\n",
    "\n",
    "# Here is the data set we want to plot \n",
    "data = [[],[]]\n",
    "t = 0.\n",
    "state = [t]\n",
    "\n",
    "def update_data(time, phase, magnitude):\n",
    "    \"\"\"Update the data set - this could come from an updated file\n",
    "    on disk.\"\"\"\n",
    "    x = np.arange(0, 10, 0.1)\n",
    "    y = magnitude*np.sin(x + time + phase)\n",
    "    # update global variable\n",
    "    data[0] = x\n",
    "    data[1] = y\n",
    "\n",
    "    \n",
    "def get_data():\n",
    "    return data[0], data[1]\n",
    "\n",
    "\n",
    "def update_plot(arg=None):\n",
    "    magnitude = slider1.value\n",
    "    phase = slider2.value\n",
    "    state[0]= slider3.value\n",
    "    time = state[0]\n",
    "    update_data(time, phase, magnitude)\n",
    "    x, y = get_data()\n",
    "\n",
    "    # fig = plt.figure()\n",
    "    plt.plot(x, y)\n",
    "    plt.ylim(-10, 10)\n",
    "\n",
    "    with image:\n",
    "        display(plt.gcf())\n",
    "\n",
    "    clear_output(wait=True)\n",
    "    \n",
    "    # print(\"update_plot: arg='{}'\".format(arg))\n",
    "\n",
    "slider1.observe(update_plot, 'value')\n",
    "slider2.observe(update_plot, 'value')\n",
    "slider3.observe(update_plot, 'value')\n",
    "image.observe(update_plot, 'value')\n",
    "button.on_click(update_plot)\n",
    "\n",
    "\n",
    "display(button, slider1, slider2, slider3)\n",
    "update_plot()\n",
    "\n",
    "# \n",
    "#for i in range(100):\n",
    "#    slider3.value += 0.1\n",
    "#    time.sleep(1)"
   ]
  },
  {
   "cell_type": "code",
   "execution_count": 2,
   "metadata": {
    "collapsed": true
   },
   "outputs": [],
   "source": [
    "image.value = 6"
   ]
  },
  {
   "cell_type": "markdown",
   "metadata": {},
   "source": [
    "Can update the slider, but the plot (above) doesn't update."
   ]
  },
  {
   "cell_type": "code",
   "execution_count": 7,
   "metadata": {
    "collapsed": false
   },
   "outputs": [
    {
     "data": {
      "image/png": "[encoded data removed]",
      "text/plain": [
       "<matplotlib.figure.Figure at 0x10d7a23c8>"
      ]
     },
     "metadata": {},
     "output_type": "display_data"
    }
   ],
   "source": [
    "slider1.value = 0"
   ]
  },
  {
   "cell_type": "code",
   "execution_count": 5,
   "metadata": {
    "collapsed": false
   },
   "outputs": [
    {
     "data": {
      "image/png": "[encoded data removed]",
      "text/plain": [
       "<matplotlib.figure.Figure at 0x10d018ba8>"
      ]
     },
     "metadata": {},
     "output_type": "display_data"
    }
   ],
   "source": [
    "slider1.value +=0.1"
   ]
  },
  {
   "cell_type": "code",
   "execution_count": null,
   "metadata": {
    "collapsed": true
   },
   "outputs": [],
   "source": []
  }
 ],
 "metadata": {
  "anaconda-cloud": {},
  "kernelspec": {
   "display_name": "Python [default]",
   "language": "python",
   "name": "python3"
  },
  "language_info": {
   "codemirror_mode": {
    "name": "ipython",
    "version": 3
   },
   "file_extension": ".py",
   "mimetype": "text/x-python",
   "name": "python",
   "nbconvert_exporter": "python",
   "pygments_lexer": "ipython3",
   "version": "3.5.2"
  },
  "widgets": {
   "state": {
    "52ec153cc9e448e7bb0563e4c93a3b88": {
     "views": [
      {
       "cell_index": 0
      }
     ]
    },
    "74dcdd3aa613404db294a52c2ae1a534": {
     "views": [
      {
       "cell_index": 0
      }
     ]
    },
    "c0e1406795614c25917d3d098076e531": {
     "views": [
      {
       "cell_index": 0
      }
     ]
    },
    "da3767beac4441128a1efed8d97fb2ca": {
     "views": [
      {
       "cell_index": 0
      }
     ]
    }
   },
   "version": "1.2.0"
  }
 },
 "nbformat": 4,
 "nbformat_minor": 2
}
