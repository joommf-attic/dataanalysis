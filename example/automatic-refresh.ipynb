{
 "cells": [
  {
   "cell_type": "code",
   "execution_count": 35,
   "metadata": {
    "collapsed": true
   },
   "outputs": [],
   "source": [
    "%matplotlib inline\n",
    "import time\n",
    "import numpy as np\n",
    "import matplotlib.pyplot as plt\n",
    "from math import pi\n",
    "from ipywidgets import interact, HTML, FloatSlider, Button, Output, Accordion\n",
    "from IPython.display import clear_output, display\n",
    "\n",
    "slider1 = FloatSlider(value=5,description='magnitude', min=0, max=10, step=0.1)\n",
    "slider2 = FloatSlider(value=pi, description='phase', min=0, max=4*np.pi, step=0.1)\n",
    "slider3 = FloatSlider(description='time', min=0, max=100, step=0.1)\n",
    "button = Button(description='update')\n",
    "# widget 'box' for matplotlib plot\n",
    "image = Output()\n",
    "\n",
    "# Here is the data set we want to plot \n",
    "data = [[],[]]\n",
    "t = 0.\n",
    "state = [t]\n",
    "\n",
    "def update_data(time, phase, magnitude):\n",
    "    \"\"\"Update the data set - this could come from an updated file\n",
    "    on disk.\"\"\"\n",
    "    x = np.arange(0, 10, 0.1)\n",
    "    y = magnitude*np.sin(x + time + phase)\n",
    "    # update global variable\n",
    "    data[0] = x\n",
    "    data[1] = y\n",
    "\n",
    "    \n",
    "def get_data():\n",
    "    return data[0], data[1]\n",
    "\n",
    "\n",
    "def update_plot(arg=None):\n",
    "    magnitude = slider1.value\n",
    "    phase = slider2.value\n",
    "    state[0]= slider3.value\n",
    "    time = state[0]\n",
    "    update_data(time, phase, magnitude)\n",
    "    x, y = get_data()\n",
    "\n",
    "    # fig = plt.figure()\n",
    "    plt.plot(x, y)\n",
    "    plt.ylim(-10, 10)\n",
    "\n",
    "    with image:\n",
    "        display(plt.gcf())\n",
    "        clear_output(wait=True)\n",
    "    plt.close()\n",
    "    \n",
    "    # print(\"update_plot: arg='{}'\".format(arg))\n",
    "\n",
    "slider1.observe(update_plot, 'value')\n",
    "slider2.observe(update_plot, 'value')\n",
    "slider3.observe(update_plot, 'value')\n",
    "image.observe(update_plot, 'value')\n",
    "button.on_click(update_plot)\n",
    "\n",
    "\n",
    "display(button, slider1, slider2, slider3, image)\n",
    "update_plot()\n",
    "\n",
    "# \n",
    "#for i in range(100):\n",
    "#    slider3.value += 0.1\n",
    "#    time.sleep(1)"
   ]
  },
  {
   "cell_type": "markdown",
   "metadata": {},
   "source": [
    "Can update the slider, but the plot (above) doesn't update."
   ]
  },
  {
   "cell_type": "code",
   "execution_count": 36,
   "metadata": {},
   "outputs": [],
   "source": [
    "slider1.value = 0"
   ]
  },
  {
   "cell_type": "code",
   "execution_count": 32,
   "metadata": {},
   "outputs": [],
   "source": [
    "import time\n",
    "for a in range(100):\n",
    "    slider1.value +=0.1\n",
    "    time.sleep(0.1)"
   ]
  },
  {
   "cell_type": "code",
   "execution_count": null,
   "metadata": {
    "collapsed": true
   },
   "outputs": [],
   "source": []
  }
 ],
 "metadata": {
  "anaconda-cloud": {},
  "kernelspec": {
   "display_name": "Python 3",
   "language": "python",
   "name": "python3"
  },
  "language_info": {
   "codemirror_mode": {
    "name": "ipython",
    "version": 3
   },
   "file_extension": ".py",
   "mimetype": "text/x-python",
   "name": "python",
   "nbconvert_exporter": "python",
   "pygments_lexer": "ipython3",
   "version": "3.5.2"
  },
  "widgets": {
   "state": {
    "024bf772bee64ae296c1d49fb4ccf086": {
     "views": [
      {
       "cell_index": 2
      }
     ]
    },
    "0d70a8816e2e4104b4b54c2ac20ac830": {
     "views": [
      {
       "cell_index": 0
      }
     ]
    },
    "21780b60ef94474fa1eda5aa6e3f38e7": {
     "views": [
      {
       "cell_index": 0
      }
     ]
    },
    "385cede8caaf44e3b554831a928d642f": {
     "views": [
      {
       "cell_index": 2
      }
     ]
    },
    "3b64e27bd9164edeb7add7c3f8ba4c15": {
     "views": [
      {
       "cell_index": 2
      }
     ]
    },
    "4b88c1e9775b47dcaa2455f439d337df": {
     "views": [
      {
       "cell_index": 0
      }
     ]
    },
    "4e7b71f913d3402f8305781e9e94434b": {
     "views": [
      {
       "cell_index": 2
      }
     ]
    },
    "6356144f6c1e4f5bbc10f342de504a72": {
     "views": [
      {
       "cell_index": 0
      }
     ]
    },
    "6aa50eae0e58425e874c2618fcb58ffe": {
     "views": [
      {
       "cell_index": 0
      }
     ]
    },
    "6fa597bc59cb4b3a94d9d1b30956d654": {
     "views": [
      {
       "cell_index": 2
      }
     ]
    },
    "86cc433ff59f456d8edba432935525c2": {
     "views": [
      {
       "cell_index": 2
      }
     ]
    },
    "8aafa1f3cb184e3fb64c1f62c9bdfb7d": {
     "views": [
      {
       "cell_index": 2
      },
      {
       "cell_index": 2
      },
      {
       "cell_index": 2
      },
      {
       "cell_index": 2
      }
     ]
    },
    "9dffbbae935443ee9c86f88dbd4d1305": {
     "views": [
      {
       "cell_index": 2
      }
     ]
    },
    "c1cfab1be0b24f8f9afed87b7736cb18": {
     "views": [
      {
       "cell_index": 2
      }
     ]
    },
    "c5327829905c4303b1fed7d795270006": {
     "views": [
      {
       "cell_index": 2
      }
     ]
    },
    "c87927f163404761a2e5d59dd896a4b5": {
     "views": [
      {
       "cell_index": 0
      }
     ]
    },
    "ca061cf3ad3449bb84b40d74eddb32e3": {
     "views": [
      {
       "cell_index": 2
      },
      {
       "cell_index": 2
      },
      {
       "cell_index": 2
      },
      {
       "cell_index": 2
      }
     ]
    },
    "e4537a72761b493094207d57d984e685": {
     "views": [
      {
       "cell_index": 0
      }
     ]
    }
   },
   "version": "1.2.0"
  }
 },
 "nbformat": 4,
 "nbformat_minor": 2
}
