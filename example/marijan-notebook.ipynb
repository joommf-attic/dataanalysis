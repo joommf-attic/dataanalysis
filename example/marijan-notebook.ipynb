{
 "cells": [
  {
   "cell_type": "code",
   "execution_count": 1,
   "metadata": {
    "collapsed": false
   },
   "outputs": [],
   "source": [
    "import os\n",
    "import glob\n",
    "import oommfodt\n",
    "import numpy as np\n",
    "import traitlets\n",
    "import ipywidgets\n",
    "import discretisedfield as df\n",
    "import matplotlib.pyplot as plt\n",
    "import IPython.display\n",
    "from IPython.display import display, clear_output\n",
    "%matplotlib inline"
   ]
  },
  {
   "cell_type": "code",
   "execution_count": 32,
   "metadata": {
    "collapsed": false
   },
   "outputs": [],
   "source": [
    "class DataAnalysisODT:\n",
    "    def __init__(self, name):\n",
    "        self.dirname = os.path.join(name, \"\")\n",
    "        \n",
    "        odtfile = max(glob.iglob(\"{}*.odt\".format(self.dirname)),\n",
    "                      key=os.path.getctime)\n",
    "        self.dt = oommfodt.OOMMFodt(odtfile).df\n",
    "        self.time = self.dt[\"t\"].as_matrix()/1e-12\n",
    "        \n",
    "        self.slider = ipywidgets.IntSlider(value=self.time[0],\n",
    "                                             min=self.time[0], \n",
    "                                             max=self.time[-1],\n",
    "                                             step=self.time[1]-self.time[0],\n",
    "                                             description=\"t (ps):\",\n",
    "                                             readout=True,\n",
    "                                             layout=ipywidgets.Layout(width=\"100%\"))\n",
    "\n",
    "        self.select = ipywidgets.Select(options=list(self.dt.columns.values),\n",
    "                                        description=\"Output:\")\n",
    "        \n",
    "        self.play = ipywidgets.Play(value=self.time[0],\n",
    "                                    min=self.time[0], \n",
    "                                    max=self.time[-1],\n",
    "                                    step=self.time[1]-self.time[0])\n",
    "       \n",
    "        ipywidgets.jslink((self.play, \"value\"), (self.slider, \"value\"))\n",
    "        self.slider.observe(self.update_output_slider)\n",
    "        self.select.observe(self.update_output_slider)\n",
    "        self.out = ipywidgets.Output(layout=ipywidgets.Layout(width=\"300%\"))\n",
    "    \n",
    "        self.update_output_slider(None)\n",
    "        \n",
    "    def _ipython_display_(self):\n",
    "        box1 = ipywidgets.VBox([self.slider, self.out])\n",
    "        box2 = ipywidgets.HBox([self.select, box1, self.play])\n",
    "        display(box2)\n",
    "            \n",
    "    def update_output_slider(self, value):\n",
    "        #IPython.display.clear_output(wait=True)\n",
    "        self.out.clear_output(wait=True)\n",
    "        plt.plot(self.time, self.dt[self.select.value])\n",
    "        plt.xlabel(\"t (ps)\")\n",
    "        plt.ylabel(self.select.value)\n",
    "        plt.xlim([0, self.slider.value])\n",
    "        plt.grid()\n",
    "        with self.out:\n",
    "            display(plt.gcf())\n",
    "        plt.close()"
   ]
  },
  {
   "cell_type": "code",
   "execution_count": 33,
   "metadata": {
    "collapsed": false
   },
   "outputs": [],
   "source": [
    "DataAnalysisODT(name=\"stdprob4\")"
   ]
  },
  {
   "cell_type": "code",
   "execution_count": 4,
   "metadata": {
    "collapsed": false
   },
   "outputs": [],
   "source": [
    "class DataAnalysisOMF:\n",
    "    def __init__(self, name):\n",
    "        self.dirname = os.path.join(name, \"\")\n",
    "        \n",
    "        odtfile = max(glob.iglob(\"{}*.odt\".format(self.dirname)),\n",
    "                      key=os.path.getctime)\n",
    "        self.omffiles = sorted(glob.iglob(\"{}*.omf\".format(self.dirname)),\n",
    "                               key=os.path.getctime)\n",
    "        last_omf_file = max(glob.iglob(\"{}*.omf\".format(self.dirname)),\n",
    "                            key=os.path.getctime)\n",
    "        self.last_field = df.read_oommf_file(last_omf_file)\n",
    "        \n",
    "        self.dt = oommfodt.OOMMFodt(odtfile).df\n",
    "        self.stage = self.dt[\"stage\"].as_matrix()\n",
    "        \n",
    "        self.slider = ipywidgets.IntSlider(value=self.stage[0],\n",
    "                                           min=self.stage[0], \n",
    "                                           max=self.stage[-1],\n",
    "                                           step=self.stage[1]-self.stage[0],\n",
    "                                           description=\"Stage:\",\n",
    "                                           readout=True,\n",
    "                                           layout=ipywidgets.Layout(width=\"80%\"))\n",
    "        \n",
    "        self.play = ipywidgets.Play(value=self.stage[0],\n",
    "                                    min=self.stage[0], \n",
    "                                    max=self.stage[-1],\n",
    "                                    step=self.stage[1]-self.stage[0])\n",
    "\n",
    "        self.options = {\"x\": 0, \"y\": 1, \"z\": 2}\n",
    "        self.select = ipywidgets.RadioButtons(options=list(self.options.keys()),\n",
    "                                              description=\"Slice:\")\n",
    "        \n",
    "        ipywidgets.jslink((self.play, \"value\"), (self.slider, \"value\"))\n",
    "\n",
    "        self.slider.observe(self.update_plot)\n",
    "        self.select.observe(self.update_plot)\n",
    "        self.out = ipywidgets.Output(layout=ipywidgets.Layout(width=\"300%\"))\n",
    "    \n",
    "        self.update_plot(None)\n",
    "        \n",
    "    def _ipython_display_(self):\n",
    "        box1 = ipywidgets.VBox([self.slider, self.out])\n",
    "        box2 = ipywidgets.HBox([self.select, box1])\n",
    "        display(box2)\n",
    "        display(self.play)\n",
    "            \n",
    "    def update_plot(self, value):\n",
    "        self.out.clear_output(wait=True)\n",
    "        omffile = self.find_omf_file()\n",
    "        field = df.read_oommf_file(omffile)\n",
    "        field.plot_slice(self.select.value, 0, xsize=10)\n",
    "        with self.out:\n",
    "            display(plt.gcf())\n",
    "        plt.close()\n",
    "            \n",
    "    def find_omf_file(self):\n",
    "        for f in self.omffiles:\n",
    "            if str(self.slider.value) in f[0:-7]:\n",
    "                return f"
   ]
  },
  {
   "cell_type": "code",
   "execution_count": 5,
   "metadata": {
    "collapsed": false
   },
   "outputs": [],
   "source": [
    "DataAnalysisOMF(name=\"stdprob4\")"
   ]
  }
 ],
 "metadata": {
  "kernelspec": {
   "display_name": "Python 3",
   "language": "python",
   "name": "python3"
  },
  "language_info": {
   "codemirror_mode": {
    "name": "ipython",
    "version": 3
   },
   "file_extension": ".py",
   "mimetype": "text/x-python",
   "name": "python",
   "nbconvert_exporter": "python",
   "pygments_lexer": "ipython3",
   "version": "3.5.2"
  },
  "widgets": {
   "state": {
    "2f8986899c0942dcbd6d132de1d7a7c3": {
     "views": [
      {
       "cell_index": 4
      }
     ]
    },
    "cab85802b234424fbb5e27469f349c0c": {
     "views": [
      {
       "cell_index": 2
      }
     ]
    },
    "d9e51d5f5f5f4b8f80e7b9e507f16494": {
     "views": [
      {
       "cell_index": 4
      }
     ]
    }
   },
   "version": "1.2.0"
  }
 },
 "nbformat": 4,
 "nbformat_minor": 1
}
