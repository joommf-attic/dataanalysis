{
 "cells": [
  {
   "cell_type": "code",
   "execution_count": 143,
   "metadata": {
    "collapsed": false
   },
   "outputs": [
    {
     "ename": "ImportError",
     "evalue": "No module named 'widgets'",
     "output_type": "error",
     "traceback": [
      "\u001b[0;31m---------------------------------------------------------------------------\u001b[0m",
      "\u001b[0;31mImportError\u001b[0m                               Traceback (most recent call last)",
      "\u001b[0;32m<ipython-input-143-626315bb37f2>\u001b[0m in \u001b[0;36m<module>\u001b[0;34m()\u001b[0m\n\u001b[1;32m      4\u001b[0m \u001b[0;32mimport\u001b[0m \u001b[0mnumpy\u001b[0m \u001b[0;32mas\u001b[0m \u001b[0mnp\u001b[0m\u001b[0;34m\u001b[0m\u001b[0m\n\u001b[1;32m      5\u001b[0m \u001b[0;32mimport\u001b[0m \u001b[0mtraitlets\u001b[0m\u001b[0;34m\u001b[0m\u001b[0m\n\u001b[0;32m----> 6\u001b[0;31m \u001b[0;32mimport\u001b[0m \u001b[0mwidgets\u001b[0m\u001b[0;34m\u001b[0m\u001b[0m\n\u001b[0m\u001b[1;32m      7\u001b[0m \u001b[0;32mimport\u001b[0m \u001b[0mipywidgets\u001b[0m\u001b[0;34m\u001b[0m\u001b[0m\n\u001b[1;32m      8\u001b[0m \u001b[0;32mimport\u001b[0m \u001b[0mmatplotlib\u001b[0m\u001b[0;34m.\u001b[0m\u001b[0mpyplot\u001b[0m \u001b[0;32mas\u001b[0m \u001b[0mplt\u001b[0m\u001b[0;34m\u001b[0m\u001b[0m\n",
      "\u001b[0;31mImportError\u001b[0m: No module named 'widgets'"
     ]
    }
   ],
   "source": [
    "import os\n",
    "import glob\n",
    "import oommfodt\n",
    "import numpy as np\n",
    "import traitlets\n",
    "import widgets\n",
    "import ipywidgets\n",
    "import matplotlib.pyplot as plt\n",
    "import IPython.display\n",
    "from IPython.html import widgets\n",
    "from IPython.display import display, clear_output"
   ]
  },
  {
   "cell_type": "code",
   "execution_count": 212,
   "metadata": {
    "collapsed": false
   },
   "outputs": [],
   "source": [
    "class DataAnalysisODT:\n",
    "    def __init__(self, name):\n",
    "        self.dirname = os.path.join(name, \"\")\n",
    "        \n",
    "        odtfile = max(glob.iglob(\"{}*.odt\".format(self.dirname)),\n",
    "                      key=os.path.getctime)\n",
    "        self.dt = oommfodt.OOMMFodt(odtfile).df\n",
    "        self.time = self.dt[\"t\"].as_matrix()/1e-9\n",
    "        \n",
    "        self.slider = ipywidgets.FloatRangeSlider(value=[self.time[0], self.time[-1]],\n",
    "                                                  min=self.time[0], \n",
    "                                                  max=self.time[-1],\n",
    "                                                  step=self.time[1]-self.time[0],\n",
    "                                                  description=\"t (ns):\",\n",
    "                                                  readout=True,\n",
    "                                                  layout=ipywidgets.Layout(width=\"100%\"))\n",
    "\n",
    "        self.select = ipywidgets.Select(options=list(self.dt.columns.values),\n",
    "                                        description=\"Output:\")\n",
    "        self.slider.observe(self.update_output_slider)\n",
    "        self.select.observe(self.update_output_slider)\n",
    "        self.out = widgets.Output(layout=ipywidgets.Layout(width=\"300%\"))\n",
    "    \n",
    "        self.update_output_slider(None)\n",
    "        \n",
    "    def _ipython_display_(self):\n",
    "        box1 = ipywidgets.VBox([self.slider, self.out])\n",
    "        box2 = ipywidgets.HBox([self.select, box1])\n",
    "        display(box2)\n",
    "            \n",
    "    def update_output_slider(self, value):\n",
    "        self.out.clear_output(wait=True)\n",
    "        plt.close()\n",
    "        plt.plot(self.time, self.dt[self.select.value])\n",
    "        plt.xlabel(\"t (ns)\")\n",
    "        plt.ylabel(self.select.value)\n",
    "        plt.xlim([self.slider.value[0], self.slider.value[1]])\n",
    "        plt.grid()\n",
    "        with self.out:\n",
    "            display(plt.gcf())"
   ]
  },
  {
   "cell_type": "code",
   "execution_count": 213,
   "metadata": {
    "collapsed": false
   },
   "outputs": [],
   "source": [
    "d = Data()\n",
    "da = DataAnalysisODT(name=\"stdprob4\")\n",
    "da"
   ]
  },
  {
   "cell_type": "code",
   "execution_count": null,
   "metadata": {
    "collapsed": true
   },
   "outputs": [],
   "source": []
  }
 ],
 "metadata": {
  "kernelspec": {
   "display_name": "Python 3",
   "language": "python",
   "name": "python3"
  },
  "language_info": {
   "codemirror_mode": {
    "name": "ipython",
    "version": 3
   },
   "file_extension": ".py",
   "mimetype": "text/x-python",
   "name": "python",
   "nbconvert_exporter": "python",
   "pygments_lexer": "ipython3",
   "version": "3.5.2"
  },
  "widgets": {
   "state": {
    "00ea96b69ff8467092659dff56739d63": {
     "views": [
      {
       "cell_index": 2
      }
     ]
    },
    "02556157170e476ca3df6e82d44a1b5b": {
     "views": [
      {
       "cell_index": 2
      }
     ]
    },
    "0b81028400b84dfaacc846eafa852a2d": {
     "views": [
      {
       "cell_index": 2
      }
     ]
    },
    "0c30205465d64ef28d4e13fed2a4c067": {
     "views": [
      {
       "cell_index": 2
      }
     ]
    },
    "0e49c146a51f40eba8e40b99e8f1680b": {
     "views": [
      {
       "cell_index": 3
      }
     ]
    },
    "1ebb54afd33a40259f4773e54fd11dbc": {
     "views": [
      {
       "cell_index": 2
      }
     ]
    },
    "1f14cbf7deac4db38cd3c6b93e4e7ec5": {
     "views": [
      {
       "cell_index": 3
      }
     ]
    },
    "233854094b6646b3804e8963e25b8bcd": {
     "views": [
      {
       "cell_index": 3
      }
     ]
    },
    "254a1efd8ed941c3add757cbfdbe3265": {
     "views": [
      {
       "cell_index": 2
      }
     ]
    },
    "34b5d32e30d3434ab1b9edc358098645": {
     "views": [
      {
       "cell_index": 2
      }
     ]
    },
    "4017bef4b55a4ea49567d5b373102a39": {
     "views": [
      {
       "cell_index": 3
      }
     ]
    },
    "4263259a691640b9aba7aac61bc38bbe": {
     "views": [
      {
       "cell_index": 3
      }
     ]
    },
    "48a29fb47a7c45f08e1ba73306e046ac": {
     "views": [
      {
       "cell_index": 2
      }
     ]
    },
    "4b38946e4ac54eb5816c79dbc1aa7630": {
     "views": [
      {
       "cell_index": 2
      }
     ]
    },
    "5586dc593dc140259ab2bb59b4957ae8": {
     "views": [
      {
       "cell_index": 2
      }
     ]
    },
    "5b2f26ff29da4bfc82e5e6d1c2e7ed64": {
     "views": [
      {
       "cell_index": 2
      }
     ]
    },
    "6fa795051d324b4f94f141351cda972c": {
     "views": [
      {
       "cell_index": 3
      }
     ]
    },
    "7687909b3f0e4f39be52ff18697e62d7": {
     "views": [
      {
       "cell_index": 3
      }
     ]
    },
    "7d085c1ec83942a991f0ac05a837a293": {
     "views": [
      {
       "cell_index": 3
      }
     ]
    },
    "7f06b42e3d3b462bb137e5ad1ba1660f": {
     "views": [
      {
       "cell_index": 2
      }
     ]
    },
    "80924e0048bf42f1bbe94344b3d2de4b": {
     "views": [
      {
       "cell_index": 2
      }
     ]
    },
    "820d20b95ad345f69d28ad7911bf86db": {
     "views": [
      {
       "cell_index": 2
      }
     ]
    },
    "835b86ab949046c6a7870fa62ff0ff8d": {
     "views": [
      {
       "cell_index": 3
      }
     ]
    },
    "89828d45193844048c0713f17a19cbf7": {
     "views": [
      {
       "cell_index": 2
      }
     ]
    },
    "9514b01ff0d246378ec836fb0b3e896f": {
     "views": [
      {
       "cell_index": 2
      }
     ]
    },
    "955df7ddf7d3412b988d70bab9aaef28": {
     "views": [
      {
       "cell_index": 3
      }
     ]
    },
    "b74b90c6707b4ef4844995694ef73d11": {
     "views": [
      {
       "cell_index": 2
      }
     ]
    },
    "b7782797df574cb98b5c9baeacc444a9": {
     "views": [
      {
       "cell_index": 2
      }
     ]
    },
    "bdf80c219a404d1096fb39e001f9abc4": {
     "views": [
      {
       "cell_index": 2
      }
     ]
    },
    "c0e264e792144ba4a1ae9642c682aeed": {
     "views": [
      {
       "cell_index": 3
      }
     ]
    },
    "c15b6cd6d4894869bf50d896d3090af5": {
     "views": [
      {
       "cell_index": 3
      }
     ]
    },
    "ca51960fcc6948a0a7a3b244c6113fca": {
     "views": [
      {
       "cell_index": 2
      }
     ]
    },
    "cbd07d20b20644edb10ab9c9878f7e9f": {
     "views": [
      {
       "cell_index": 2
      }
     ]
    },
    "e0978560995f4260945c48d6dd5b020b": {
     "views": [
      {
       "cell_index": 3
      }
     ]
    },
    "e8fa132be11c45429238c18d08bdcb58": {
     "views": [
      {
       "cell_index": 2
      }
     ]
    },
    "f4479f84a64f466f809cbac77a9a3cfd": {
     "views": [
      {
       "cell_index": 3
      }
     ]
    },
    "f77101ea622b43f08e9c5fbb5aa4e692": {
     "views": [
      {
       "cell_index": 2
      }
     ]
    },
    "f7c11723792e4698a1f508499a94626c": {
     "views": [
      {
       "cell_index": 2
      }
     ]
    },
    "fa60133a07a74fe3a14364ae7fd05105": {
     "views": [
      {
       "cell_index": 2
      }
     ]
    },
    "fbd75bb802494309b633f568f9c15547": {
     "views": [
      {
       "cell_index": 3
      }
     ]
    }
   },
   "version": "1.2.0"
  }
 },
 "nbformat": 4,
 "nbformat_minor": 1
}
