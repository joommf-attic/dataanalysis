{
 "cells": [
  {
   "cell_type": "code",
   "execution_count": 8,
   "metadata": {
    "collapsed": true
   },
   "outputs": [],
   "source": [
    "import numpy as np\n",
    "import ipywidgets\n",
    "import matplotlib.pyplot as plt\n",
    "import IPython.display"
   ]
  },
  {
   "cell_type": "code",
   "execution_count": 21,
   "metadata": {
    "collapsed": false
   },
   "outputs": [],
   "source": [
    "class Data:\n",
    "    def __init__(self):\n",
    "        self.index = np.linspace(0, 1, 11)\n",
    "\n",
    "    def signal(self, index):     \n",
    "        t = np.linspace(0, 10, 101)\n",
    "        return np.sin(2*np.pi*index*t)\n",
    "    \n",
    "    def signal2D(self, index):\n",
    "        t = np.linspace(-10, 10, 1001)\n",
    "        X, Y = np.meshgrid(t, t)\n",
    "        return np.sin(2*np.pi*index*(X**2 + Y**2))"
   ]
  },
  {
   "cell_type": "code",
   "execution_count": 24,
   "metadata": {
    "collapsed": false
   },
   "outputs": [],
   "source": [
    "from IPython.html import widgets\n",
    "from IPython.display import display, clear_output\n",
    "\n",
    "class DataAnalysis:\n",
    "    def __init__(self, data):\n",
    "        self.data = data\n",
    "        self.slider = ipywidgets.FloatSlider(value=self.data.index[0],\n",
    "                                             min=self.data.index[0], \n",
    "                                             max=self.data.index[-1])\n",
    "        self.slider.observe(self.update_output)\n",
    "        self.out = widgets.Output()\n",
    "        \n",
    "    def _ipython_display_(self):\n",
    "        display(self.slider)\n",
    "        display(self.out)\n",
    "        \n",
    "    def update_output(self, value):\n",
    "        self.out.clear_output(wait=True)\n",
    "        plt.close()\n",
    "        plt.imshow(self.data.signal2D(self.slider.value))\n",
    "        with self.out:\n",
    "            display(plt.gcf())"
   ]
  },
  {
   "cell_type": "code",
   "execution_count": 25,
   "metadata": {
    "collapsed": false
   },
   "outputs": [],
   "source": [
    "d = Data()\n",
    "da = DataAnalysis(d)\n",
    "da"
   ]
  },
  {
   "cell_type": "code",
   "execution_count": null,
   "metadata": {
    "collapsed": true
   },
   "outputs": [],
   "source": []
  }
 ],
 "metadata": {
  "kernelspec": {
   "display_name": "Python 3",
   "language": "python",
   "name": "python3"
  },
  "language_info": {
   "codemirror_mode": {
    "name": "ipython",
    "version": 3
   },
   "file_extension": ".py",
   "mimetype": "text/x-python",
   "name": "python",
   "nbconvert_exporter": "python",
   "pygments_lexer": "ipython3",
   "version": "3.5.2"
  },
  "widgets": {
   "state": {
    "01cd38b7b59645ce8b45c7dc5b07390a": {
     "views": [
      {
       "cell_index": 3
      }
     ]
    },
    "3b45af01666a4ffa865e0d3526406c15": {
     "views": [
      {
       "cell_index": 3
      }
     ]
    },
    "428e7c12270542c4b80474bd858f6282": {
     "views": [
      {
       "cell_index": 3
      }
     ]
    },
    "4e8c901247c74da388b59c5922c6020a": {
     "views": [
      {
       "cell_index": 3
      }
     ]
    },
    "95483fb8be1a40d88e4767c93390de3e": {
     "views": [
      {
       "cell_index": 3
      }
     ]
    },
    "a77693d1ad5d4c9ca9a888a3e5dbb206": {
     "views": [
      {
       "cell_index": 3
      }
     ]
    },
    "b95da7d6bec1475cadf38d61dd9cde13": {
     "views": [
      {
       "cell_index": 3
      }
     ]
    },
    "c3e71255cbca43a5abaa521f8bebddd6": {
     "views": [
      {
       "cell_index": 3
      }
     ]
    },
    "d4b37cc32af74a29aecc8df68a9eeacd": {
     "views": [
      {
       "cell_index": 3
      }
     ]
    }
   },
   "version": "1.2.0"
  }
 },
 "nbformat": 4,
 "nbformat_minor": 1
}
