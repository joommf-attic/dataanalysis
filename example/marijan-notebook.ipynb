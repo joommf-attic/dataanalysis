{
 "cells": [
  {
   "cell_type": "code",
   "execution_count": 7,
   "metadata": {
    "collapsed": true
   },
   "outputs": [],
   "source": [
    "import numpy as np\n",
    "import ipywidgets\n",
    "import matplotlib.pyplot as plt\n",
    "import IPython.display"
   ]
  },
  {
   "cell_type": "code",
   "execution_count": 8,
   "metadata": {
    "collapsed": false
   },
   "outputs": [],
   "source": [
    "class Data:\n",
    "    def __init__(self):\n",
    "        self.index = np.linspace(0, 10, 11)\n",
    "\n",
    "    def signal(self, index):     \n",
    "        t = np.linspace(0, 10, 101)\n",
    "        return np.sin(2*np.pi*index*t)\n",
    "    \n",
    "    def signal2D(self, index):\n",
    "        t = np.linspace(-10, 10, 1001)\n",
    "        X, Y = np.meshgrid(t, t)\n",
    "        return np.sin(2*np.pi*index*(X**2 + Y**2))"
   ]
  },
  {
   "cell_type": "code",
   "execution_count": 11,
   "metadata": {
    "collapsed": false
   },
   "outputs": [],
   "source": [
    "from IPython.html import widgets\n",
    "from IPython.display import display, clear_output\n",
    "\n",
    "class DataAnalysis:\n",
    "    def __init__(self, data):\n",
    "        self.data = data\n",
    "        self.slider = ipywidgets.IntSlider(value=self.data.index[0],\n",
    "                                           min=self.data.index[0], \n",
    "                                           max=self.data.index[-1])\n",
    "        self.slider.observe(self.update_output)\n",
    "        self.out = widgets.Output()\n",
    "        \n",
    "    def _ipython_display_(self):\n",
    "        display(self.slider)\n",
    "        display(self.out)\n",
    "        \n",
    "    def update_output(self, value):\n",
    "        #self.out.clear_output()\n",
    "        with self.out:\n",
    "            plt.cla()\n",
    "            plt.plot(self.data.signal(self.slider.value))\n",
    "            display(plt.gcf())"
   ]
  },
  {
   "cell_type": "code",
   "execution_count": 12,
   "metadata": {
    "collapsed": false
   },
   "outputs": [],
   "source": [
    "d = Data()\n",
    "da = DataAnalysis(d)\n",
    "da"
   ]
  },
  {
   "cell_type": "code",
   "execution_count": null,
   "metadata": {
    "collapsed": true
   },
   "outputs": [],
   "source": []
  }
 ],
 "metadata": {
  "kernelspec": {
   "display_name": "Python 3",
   "language": "python",
   "name": "python3"
  },
  "language_info": {
   "codemirror_mode": {
    "name": "ipython",
    "version": 3
   },
   "file_extension": ".py",
   "mimetype": "text/x-python",
   "name": "python",
   "nbconvert_exporter": "python",
   "pygments_lexer": "ipython3",
   "version": "3.5.2"
  },
  "widgets": {
   "state": {
    "02698ae759cc460b92d7798b29db52fe": {
     "views": [
      {
       "cell_index": 3
      }
     ]
    },
    "0696d82076224c96a533c135cff0c9f1": {
     "views": [
      {
       "cell_index": 3
      }
     ]
    },
    "0d04cc693eed4d5d9dfed20bd9fe0e40": {
     "views": [
      {
       "cell_index": 3
      }
     ]
    },
    "1f84f58db2aa467c94771d0ae0acd145": {
     "views": [
      {
       "cell_index": 3
      }
     ]
    },
    "26fe2a48d9d54bf8a616b4b48460ba57": {
     "views": [
      {
       "cell_index": 3
      }
     ]
    },
    "30335276ecec497cba692789ec397196": {
     "views": [
      {
       "cell_index": 3
      }
     ]
    },
    "3a6af9d2a41d46d2bd8c5919fcea526a": {
     "views": [
      {
       "cell_index": 3
      }
     ]
    },
    "53f56b3e4ded4a3e98047f6ec289fe58": {
     "views": [
      {
       "cell_index": 3
      }
     ]
    },
    "721780cb60b44e88b0ebd0afc701e41f": {
     "views": [
      {
       "cell_index": 3
      }
     ]
    },
    "7721b8efecfe446f8c2b68cbe7bc1958": {
     "views": [
      {
       "cell_index": 3
      }
     ]
    },
    "797f491c1c284f7ea9a0a47869d9e769": {
     "views": [
      {
       "cell_index": 3
      }
     ]
    },
    "8369f86521344e2fa85731708a88231e": {
     "views": [
      {
       "cell_index": 3
      }
     ]
    },
    "838279eb81d04d5cb501047cbcdac852": {
     "views": [
      {
       "cell_index": 3
      }
     ]
    },
    "9e29d5ddfe3e4dbca615e05a19e7f6d4": {
     "views": [
      {
       "cell_index": 3
      }
     ]
    },
    "a9aeb41219d54cd1b2c53088208277ad": {
     "views": [
      {
       "cell_index": 3
      }
     ]
    },
    "b32abfbaf01240f88da0a2602b971c0a": {
     "views": [
      {
       "cell_index": 3
      }
     ]
    },
    "b3c4352655124b81becaf666a0b9f387": {
     "views": [
      {
       "cell_index": 3
      }
     ]
    },
    "b3cfacab13b842629e740d8d28876a95": {
     "views": [
      {
       "cell_index": 3
      }
     ]
    },
    "b6610aae29fb47bc9962e5125c529969": {
     "views": [
      {
       "cell_index": 3
      }
     ]
    },
    "b9723071b0aa45ff8b325b74cd53d8f5": {
     "views": [
      {
       "cell_index": 3
      }
     ]
    },
    "c8f20ac18f404f519b390b7acfd54a9c": {
     "views": [
      {
       "cell_index": 3
      }
     ]
    },
    "d4921e3acf184d72a4013a0aa20167e2": {
     "views": [
      {
       "cell_index": 3
      }
     ]
    },
    "e8bcb6d251ad425eaa306da5698f4657": {
     "views": [
      {
       "cell_index": 3
      }
     ]
    }
   },
   "version": "1.2.0"
  }
 },
 "nbformat": 4,
 "nbformat_minor": 1
}
