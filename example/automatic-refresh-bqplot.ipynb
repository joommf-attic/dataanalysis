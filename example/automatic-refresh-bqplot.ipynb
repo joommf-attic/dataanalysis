{
 "cells": [
  {
   "cell_type": "code",
   "execution_count": 67,
   "metadata": {
    "collapsed": false,
    "deletable": true,
    "editable": true
   },
   "outputs": [],
   "source": [
    "#%matplotlib inline\n",
    "import time\n",
    "import numpy as np\n",
    "#import matplotlib.pyplot as plt\n",
    "from math import pi\n",
    "from ipywidgets import interact, HTML, FloatSlider, Button, Accordion\n",
    "from IPython.display import clear_output, display\n",
    "\n",
    "slider1 = FloatSlider(value=5,description='magnitude', min=0, max=10, step=0.1, continuous_update=True)\n",
    "slider2 = FloatSlider(value=pi, description='phase', min=0, max=4*np.pi, step=0.1)\n",
    "slider3 = FloatSlider(description='time', min=0, max=10, step=0.1)\n",
    "button = Button(description='update')\n",
    "\n",
    "# Here is the data set we want to plot \n",
    "data = [[],[]]\n",
    "t = 0.\n",
    "state = [t]\n",
    "\n",
    "def update_data(time, phase, magnitude):\n",
    "    \"\"\"Update the data set - this could come from an updated file\n",
    "    on disk.\"\"\"\n",
    "    x = np.arange(0, 10, 0.1)\n",
    "    y = magnitude*np.sin(x + time + phase)\n",
    "    # update global variable\n",
    "    data[0] = x\n",
    "    data[1] = y\n",
    "\n",
    "    \n",
    "def get_data():\n",
    "    return data[0], data[1]\n",
    "\n",
    "\n",
    "# BQPlot\n",
    "x_sc = bq.LinearScale()\n",
    "y_sc = bq.LinearScale(min=-10, max=10)\n",
    "ax_x = bq.Axis(label='X', scale=x_sc, grid_lines='solid')\n",
    "ax_y = bq.Axis(label='Y', scale=y_sc, orientation='vertical', grid_lines='solid')\n",
    "\n",
    "line = bq.Lines(x=x_data, y=y_data, scales={'x': x_sc, 'y': y_sc})\n",
    "bqfig = bq.Figure(axes=[ax_x, ax_y], marks=[line], title='First Example', animation_duration=10)\n",
    "\n",
    "\n",
    "def update_plot(arg=None):\n",
    "    magnitude = slider1.value\n",
    "    phase = slider2.value\n",
    "    state[0]= slider3.value\n",
    "    time = state[0]\n",
    "    update_data(time, phase, magnitude)\n",
    "    x_data, y_data = get_data()\n",
    "\n",
    "    # fig = plt.figure()\n",
    "    #plt.plot(x, y)\n",
    "    #plt.ylim(-10, 10)\n",
    "    \n",
    "   \n",
    "   #line = bq.Lines(x=x_data, y=y_data, scales={'x': x_sc, 'y': y_sc})\n",
    "    line.x = x_data\n",
    "    line.y = y_data\n",
    " \n",
    "slider1.observe(update_plot, 'value')\n",
    "slider2.observe(update_plot, 'value')\n",
    "slider3.observe(update_plot, 'value')\n",
    "image.observe(update_plot, 'value')\n",
    "button.on_click(update_plot)\n",
    "bqfig.observe(update_plot)\n",
    "\n",
    "\n",
    "display(button, slider1, slider2, slider3, bqfig)\n",
    "update_plot()\n",
    "\n"
   ]
  },
  {
   "cell_type": "markdown",
   "metadata": {
    "deletable": true,
    "editable": true
   },
   "source": [
    "Pretend data on disk/in pipe is changing:\n"
   ]
  },
  {
   "cell_type": "code",
   "execution_count": 68,
   "metadata": {
    "collapsed": true,
    "deletable": true,
    "editable": true
   },
   "outputs": [],
   "source": [
    "slider3.value=0\n",
    "import time\n",
    "for a in range(1000):\n",
    "    slider3.value +=0.01\n",
    "    time.sleep(0.01)"
   ]
  },
  {
   "cell_type": "code",
   "execution_count": null,
   "metadata": {
    "collapsed": true
   },
   "outputs": [],
   "source": []
  }
 ],
 "metadata": {
  "anaconda-cloud": {},
  "kernelspec": {
   "display_name": "Python 3",
   "language": "python",
   "name": "python3"
  },
  "language_info": {
   "codemirror_mode": {
    "name": "ipython",
    "version": 3
   },
   "file_extension": ".py",
   "mimetype": "text/x-python",
   "name": "python",
   "nbconvert_exporter": "python",
   "pygments_lexer": "ipython3",
   "version": "3.6.0"
  },
  "widgets": {
   "state": {
    "01e0f973190e455fb931263088c23ffd": {
     "views": [
      {
       "cell_index": 0
      }
     ]
    },
    "06a50c39ee414c75811fb5747fa4b520": {
     "views": [
      {
       "cell_index": 0
      }
     ]
    },
    "0acf0175c3524ea7a87fef5c3b0fd382": {
     "views": [
      {
       "cell_index": 0
      }
     ]
    },
    "12ff23f29d384ea8a91ca4741abdd910": {
     "views": [
      {
       "cell_index": 0
      }
     ]
    },
    "13d4e0ab52ba46448aa5cb6a3b76b97c": {
     "views": [
      {
       "cell_index": 0
      }
     ]
    },
    "14796763bf6b499993ff30275aa3c5fb": {
     "views": [
      {
       "cell_index": 0
      }
     ]
    },
    "18895689639e4de58428e508ffa35d45": {
     "views": [
      {
       "cell_index": 0
      }
     ]
    },
    "1a0a515ce3f54053830b8906ad763dfd": {
     "views": [
      {
       "cell_index": 0
      }
     ]
    },
    "1f932d925ea04e8aa7ac99911c9319e3": {
     "views": [
      {
       "cell_index": 0
      }
     ]
    },
    "1fed854222c349beaf3ed5d29a5a2600": {
     "views": [
      {
       "cell_index": 0
      }
     ]
    },
    "24c7b2bda7df4a9484a56b6187044fcb": {
     "views": [
      {
       "cell_index": 0
      }
     ]
    },
    "2fc3071b4d6d4ef8bf4855154340327c": {
     "views": [
      {
       "cell_index": 0
      }
     ]
    },
    "3bb02171318e4b1d850c843ce6be2554": {
     "views": [
      {
       "cell_index": 0
      }
     ]
    },
    "3d09efedef364f0a82c51969ee55266a": {
     "views": [
      {
       "cell_index": 0
      }
     ]
    },
    "430b9324c77a4b7b93f5a6c2b106b1b3": {
     "views": [
      {
       "cell_index": 0
      }
     ]
    },
    "509416a595db499d9cbeff563afca38d": {
     "views": [
      {
       "cell_index": 0
      }
     ]
    },
    "53764e36766a4d17af4fbf798e619bdd": {
     "views": [
      {
       "cell_index": 0
      }
     ]
    },
    "555e4518f03c44c1b7f2f00709338ecd": {
     "views": [
      {
       "cell_index": 0
      }
     ]
    },
    "55fad15ba1344c258d5e479e868be07c": {
     "views": [
      {
       "cell_index": 0
      }
     ]
    },
    "561c87c8733e4bebb24908d02a0dd270": {
     "views": [
      {
       "cell_index": 0
      }
     ]
    },
    "5bc177676bb849b793d87be3176a26cb": {
     "views": [
      {
       "cell_index": 0
      }
     ]
    },
    "6576b815f7924f95991595df72fc5f40": {
     "views": [
      {
       "cell_index": 0
      }
     ]
    },
    "67a3fa2389b8454a97f94a9c3a0aee4e": {
     "views": [
      {
       "cell_index": 0
      }
     ]
    },
    "6bf6a1619e264c50a0a8342f4490639f": {
     "views": [
      {
       "cell_index": 0
      }
     ]
    },
    "6cd2c03ee0d84865957e9c8833876918": {
     "views": [
      {
       "cell_index": 0
      }
     ]
    },
    "706361889fb24f7699f644b167ba7970": {
     "views": [
      {
       "cell_index": 0
      }
     ]
    },
    "70c644f1e5984e6bb40accf67550eec2": {
     "views": [
      {
       "cell_index": 0
      }
     ]
    },
    "7128f4dd1d0f4d6b9dca7ff68085bbaf": {
     "views": [
      {
       "cell_index": 0
      }
     ]
    },
    "735517900b494e549b7b7e8682820e1a": {
     "views": [
      {
       "cell_index": 0
      }
     ]
    },
    "7578559d65a847c5b121c1e6d6bf82a4": {
     "views": [
      {
       "cell_index": 0
      }
     ]
    },
    "765e3b5bf3d54a4bb5222fcfcb76941d": {
     "views": [
      {
       "cell_index": 0
      }
     ]
    },
    "7e606b9741ca4db0910fc61d8b65bba3": {
     "views": [
      {
       "cell_index": 0
      }
     ]
    },
    "80871b89e0e44e96bee93c04f8549fd0": {
     "views": [
      {
       "cell_index": 0
      }
     ]
    },
    "85d2257d42e7425ba0311d3257efbcca": {
     "views": [
      {
       "cell_index": 0
      }
     ]
    },
    "8766c5258df8442a8618691c83bdfcf6": {
     "views": [
      {
       "cell_index": 0
      }
     ]
    },
    "8a57819e2c8f4c0786c5aed4b58b9315": {
     "views": [
      {
       "cell_index": 0
      }
     ]
    },
    "8f95523814874345862a507a5fbade5a": {
     "views": [
      {
       "cell_index": 0
      }
     ]
    },
    "91f2171fc4c64a8eb92d139d03905de9": {
     "views": [
      {
       "cell_index": 0
      }
     ]
    },
    "a0725490ec424ed1af3d417ecfd86a03": {
     "views": [
      {
       "cell_index": 0
      }
     ]
    },
    "b033f82b7a434d89a63555c721724a3f": {
     "views": [
      {
       "cell_index": 0
      }
     ]
    },
    "b1304a319c154b4a892bbb0b3339ad65": {
     "views": [
      {
       "cell_index": 0
      }
     ]
    },
    "b26e1ed569b84a569d1c2b29c537871e": {
     "views": [
      {
       "cell_index": 0
      }
     ]
    },
    "b809a3f3b41f47d7b997c63ab8f83586": {
     "views": [
      {
       "cell_index": 0
      }
     ]
    },
    "bc52b6ab3b914d4ba46d0a05092fb1b0": {
     "views": [
      {
       "cell_index": 0
      }
     ]
    },
    "c35b42a9491146b3acc6fa2c9f5ec887": {
     "views": [
      {
       "cell_index": 0
      }
     ]
    },
    "c4a160ddc8b24caab03c6cb0c664c231": {
     "views": [
      {
       "cell_index": 0
      }
     ]
    },
    "c969f046d5de4fa2b74098a198764665": {
     "views": [
      {
       "cell_index": 0
      }
     ]
    },
    "c9f45b710cbf41929aa484a69028c3f6": {
     "views": [
      {
       "cell_index": 0
      }
     ]
    },
    "cc2a351427b14780922dddf86ddd7931": {
     "views": [
      {
       "cell_index": 0
      }
     ]
    },
    "e10329c9a4a1448ba7908e134785b33d": {
     "views": [
      {
       "cell_index": 0
      }
     ]
    },
    "e1c3ca77780440c68c77bdcd65ec30dc": {
     "views": [
      {
       "cell_index": 0
      }
     ]
    },
    "e3b3556452d243c095364e6ce6def10b": {
     "views": [
      {
       "cell_index": 0
      }
     ]
    },
    "ed8e354d7b4549b0af01eadb9aacee1b": {
     "views": [
      {
       "cell_index": 0
      }
     ]
    },
    "ef7e68ab3b6d4b309c517620621c5786": {
     "views": [
      {
       "cell_index": 0
      }
     ]
    },
    "f0a891be64b1466d8ccb55487b5c20da": {
     "views": [
      {
       "cell_index": 0
      }
     ]
    },
    "f5f3201008f44d04a9ae8e97924dc80c": {
     "views": [
      {
       "cell_index": 0
      }
     ]
    },
    "f8fd199015714627a0d1af27e8d3dfa0": {
     "views": [
      {
       "cell_index": 0
      }
     ]
    },
    "fbeb5adcdb214c56856599c72c7334e9": {
     "views": [
      {
       "cell_index": 0
      }
     ]
    }
   },
   "version": "1.2.0"
  }
 },
 "nbformat": 4,
 "nbformat_minor": 2
}
